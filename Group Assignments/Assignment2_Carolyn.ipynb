{
 "cells": [
  {
   "cell_type": "markdown",
   "id": "e61a9e10-1427-4a49-8724-2d486e7383f4",
   "metadata": {},
   "source": [
    "# Group Assignment 2: Census Data Exploration\n",
    "### Median Household Income\n",
    "Carolyn Chu\n",
    "\n",
    "This week's assignment is focused on manipulating and visualizing data relevant to our group project on Los Angeles parks. I will explore the variable \"Median Household Income in the Past 12 Months (in 2019 Inflation-adjusted Dollars)\" from American Community Survey 5-year estimates (2015-2019). Data were pulled from censusreporter.org."
   ]
  },
  {
   "cell_type": "code",
   "execution_count": 1,
   "id": "9f4d4a84-f409-49f6-bb59-1bdda3906246",
   "metadata": {},
   "outputs": [
    {
     "name": "stderr",
     "output_type": "stream",
     "text": [
      "/opt/conda/lib/python3.9/site-packages/geopandas/_compat.py:106: UserWarning: The Shapely GEOS version (3.9.1-CAPI-1.14.2) is incompatible with the GEOS version PyGEOS was compiled with (3.10.1-CAPI-1.16.0). Conversions between both will be slow.\n",
      "  warnings.warn(\n"
     ]
    }
   ],
   "source": [
    "# import pandas, geopandas, contextily and matplotlib\n",
    "import pandas as pd\n",
    "import geopandas as gpd\n",
    "import contextily as ctx\n",
    "import matplotlib.pyplot as plt"
   ]
  },
  {
   "cell_type": "code",
   "execution_count": 2,
   "id": "f882cf18-4e88-4f16-a967-28ef3db32181",
   "metadata": {},
   "outputs": [],
   "source": [
    "# import median household income geojson data from censusreporter\n",
    "# variable used throughout this notebook is 'hhinc'\n",
    "hhinc = gpd.read_file('data/acs2019_5yr_B19013_14000US06037222001.geojson')"
   ]
  },
  {
   "cell_type": "markdown",
   "id": "b27ec9b4-8ddc-424d-ae43-45e36549aa58",
   "metadata": {},
   "source": [
    "## Preliminary exploration and renaming of columns"
   ]
  },
  {
   "cell_type": "code",
   "execution_count": 3,
   "id": "e5fcae1d-eb7c-4f73-89f5-21d65cb483d7",
   "metadata": {},
   "outputs": [
    {
     "data": {
      "text/plain": [
       "(1005, 5)"
      ]
     },
     "execution_count": 3,
     "metadata": {},
     "output_type": "execute_result"
    }
   ],
   "source": [
    "# how many entries and columns?\n",
    "hhinc.shape"
   ]
  },
  {
   "cell_type": "code",
   "execution_count": 4,
   "id": "f0e3c8da-3ee0-4e8b-8cd8-1c84fe30cdaa",
   "metadata": {},
   "outputs": [
    {
     "data": {
      "text/html": [
       "<div>\n",
       "<style scoped>\n",
       "    .dataframe tbody tr th:only-of-type {\n",
       "        vertical-align: middle;\n",
       "    }\n",
       "\n",
       "    .dataframe tbody tr th {\n",
       "        vertical-align: top;\n",
       "    }\n",
       "\n",
       "    .dataframe thead th {\n",
       "        text-align: right;\n",
       "    }\n",
       "</style>\n",
       "<table border=\"1\" class=\"dataframe\">\n",
       "  <thead>\n",
       "    <tr style=\"text-align: right;\">\n",
       "      <th></th>\n",
       "      <th>geoid</th>\n",
       "      <th>name</th>\n",
       "      <th>B19013001</th>\n",
       "      <th>B19013001, Error</th>\n",
       "      <th>geometry</th>\n",
       "    </tr>\n",
       "  </thead>\n",
       "  <tbody>\n",
       "    <tr>\n",
       "      <th>0</th>\n",
       "      <td>14000US06037101110</td>\n",
       "      <td>Census Tract 1011.10, Los Angeles, CA</td>\n",
       "      <td>63534.0</td>\n",
       "      <td>16806.0</td>\n",
       "      <td>MULTIPOLYGON (((-118.30229 34.25870, -118.3009...</td>\n",
       "    </tr>\n",
       "    <tr>\n",
       "      <th>1</th>\n",
       "      <td>14000US06037101122</td>\n",
       "      <td>Census Tract 1011.22, Los Angeles, CA</td>\n",
       "      <td>90389.0</td>\n",
       "      <td>9796.0</td>\n",
       "      <td>MULTIPOLYGON (((-118.30334 34.27371, -118.3033...</td>\n",
       "    </tr>\n",
       "    <tr>\n",
       "      <th>2</th>\n",
       "      <td>14000US06037101210</td>\n",
       "      <td>Census Tract 1012.10, Los Angeles, CA</td>\n",
       "      <td>44083.0</td>\n",
       "      <td>9483.0</td>\n",
       "      <td>MULTIPOLYGON (((-118.29945 34.25598, -118.2979...</td>\n",
       "    </tr>\n",
       "    <tr>\n",
       "      <th>3</th>\n",
       "      <td>14000US06037101220</td>\n",
       "      <td>Census Tract 1012.20, Los Angeles, CA</td>\n",
       "      <td>43713.0</td>\n",
       "      <td>4639.0</td>\n",
       "      <td>MULTIPOLYGON (((-118.28593 34.25227, -118.2859...</td>\n",
       "    </tr>\n",
       "    <tr>\n",
       "      <th>4</th>\n",
       "      <td>14000US06037101300</td>\n",
       "      <td>Census Tract 1013, Los Angeles, CA</td>\n",
       "      <td>81776.0</td>\n",
       "      <td>11857.0</td>\n",
       "      <td>MULTIPOLYGON (((-118.27822 34.25068, -118.2782...</td>\n",
       "    </tr>\n",
       "  </tbody>\n",
       "</table>\n",
       "</div>"
      ],
      "text/plain": [
       "                geoid                                   name  B19013001  \\\n",
       "0  14000US06037101110  Census Tract 1011.10, Los Angeles, CA    63534.0   \n",
       "1  14000US06037101122  Census Tract 1011.22, Los Angeles, CA    90389.0   \n",
       "2  14000US06037101210  Census Tract 1012.10, Los Angeles, CA    44083.0   \n",
       "3  14000US06037101220  Census Tract 1012.20, Los Angeles, CA    43713.0   \n",
       "4  14000US06037101300     Census Tract 1013, Los Angeles, CA    81776.0   \n",
       "\n",
       "   B19013001, Error                                           geometry  \n",
       "0           16806.0  MULTIPOLYGON (((-118.30229 34.25870, -118.3009...  \n",
       "1            9796.0  MULTIPOLYGON (((-118.30334 34.27371, -118.3033...  \n",
       "2            9483.0  MULTIPOLYGON (((-118.29945 34.25598, -118.2979...  \n",
       "3            4639.0  MULTIPOLYGON (((-118.28593 34.25227, -118.2859...  \n",
       "4           11857.0  MULTIPOLYGON (((-118.27822 34.25068, -118.2782...  "
      ]
     },
     "execution_count": 4,
     "metadata": {},
     "output_type": "execute_result"
    }
   ],
   "source": [
    "# what do the first five entries look like?\n",
    "hhinc.head()"
   ]
  },
  {
   "cell_type": "code",
   "execution_count": 5,
   "id": "6d3f15da-a381-4e1a-abb8-8d7481ff4e80",
   "metadata": {},
   "outputs": [
    {
     "name": "stdout",
     "output_type": "stream",
     "text": [
      "<class 'geopandas.geodataframe.GeoDataFrame'>\n",
      "RangeIndex: 1005 entries, 0 to 1004\n",
      "Data columns (total 5 columns):\n",
      " #   Column            Non-Null Count  Dtype   \n",
      "---  ------            --------------  -----   \n",
      " 0   geoid             1005 non-null   object  \n",
      " 1   name              1005 non-null   object  \n",
      " 2   B19013001         993 non-null    float64 \n",
      " 3   B19013001, Error  990 non-null    float64 \n",
      " 4   geometry          1005 non-null   geometry\n",
      "dtypes: float64(2), geometry(1), object(2)\n",
      "memory usage: 39.4+ KB\n"
     ]
    }
   ],
   "source": [
    "# understand the data types\n",
    "hhinc.info()"
   ]
  },
  {
   "cell_type": "code",
   "execution_count": 6,
   "id": "16c848b7-edd4-440a-97c3-251188c4002b",
   "metadata": {},
   "outputs": [
    {
     "data": {
      "text/plain": [
       "['geoid', 'name', 'B19013001', 'B19013001, Error', 'geometry']"
      ]
     },
     "execution_count": 6,
     "metadata": {},
     "output_type": "execute_result"
    }
   ],
   "source": [
    "# list the column variables as to rename them with more legible names\n",
    "list(hhinc)"
   ]
  },
  {
   "cell_type": "code",
   "execution_count": 7,
   "id": "c491fb90-c2e8-4f61-99ad-6523a3fb77a8",
   "metadata": {},
   "outputs": [],
   "source": [
    "# rename the third and fourth column to Median Household Income and Margin of Error\n",
    "# refer to metadata for any clarification needed\n",
    "hhinc.columns = ['geoid', 'name', 'Median Household Income', 'Margin of Error', 'geometry']"
   ]
  },
  {
   "cell_type": "code",
   "execution_count": 8,
   "id": "36d52ba4-8b2b-412a-9753-287cbac9d34c",
   "metadata": {
    "tags": []
   },
   "outputs": [
    {
     "data": {
      "text/html": [
       "<div>\n",
       "<style scoped>\n",
       "    .dataframe tbody tr th:only-of-type {\n",
       "        vertical-align: middle;\n",
       "    }\n",
       "\n",
       "    .dataframe tbody tr th {\n",
       "        vertical-align: top;\n",
       "    }\n",
       "\n",
       "    .dataframe thead th {\n",
       "        text-align: right;\n",
       "    }\n",
       "</style>\n",
       "<table border=\"1\" class=\"dataframe\">\n",
       "  <thead>\n",
       "    <tr style=\"text-align: right;\">\n",
       "      <th></th>\n",
       "      <th>geoid</th>\n",
       "      <th>name</th>\n",
       "      <th>Median Household Income</th>\n",
       "      <th>Margin of Error</th>\n",
       "      <th>geometry</th>\n",
       "    </tr>\n",
       "  </thead>\n",
       "  <tbody>\n",
       "    <tr>\n",
       "      <th>0</th>\n",
       "      <td>14000US06037101110</td>\n",
       "      <td>Census Tract 1011.10, Los Angeles, CA</td>\n",
       "      <td>63534.0</td>\n",
       "      <td>16806.0</td>\n",
       "      <td>MULTIPOLYGON (((-118.30229 34.25870, -118.3009...</td>\n",
       "    </tr>\n",
       "    <tr>\n",
       "      <th>1</th>\n",
       "      <td>14000US06037101122</td>\n",
       "      <td>Census Tract 1011.22, Los Angeles, CA</td>\n",
       "      <td>90389.0</td>\n",
       "      <td>9796.0</td>\n",
       "      <td>MULTIPOLYGON (((-118.30334 34.27371, -118.3033...</td>\n",
       "    </tr>\n",
       "    <tr>\n",
       "      <th>2</th>\n",
       "      <td>14000US06037101210</td>\n",
       "      <td>Census Tract 1012.10, Los Angeles, CA</td>\n",
       "      <td>44083.0</td>\n",
       "      <td>9483.0</td>\n",
       "      <td>MULTIPOLYGON (((-118.29945 34.25598, -118.2979...</td>\n",
       "    </tr>\n",
       "    <tr>\n",
       "      <th>3</th>\n",
       "      <td>14000US06037101220</td>\n",
       "      <td>Census Tract 1012.20, Los Angeles, CA</td>\n",
       "      <td>43713.0</td>\n",
       "      <td>4639.0</td>\n",
       "      <td>MULTIPOLYGON (((-118.28593 34.25227, -118.2859...</td>\n",
       "    </tr>\n",
       "    <tr>\n",
       "      <th>4</th>\n",
       "      <td>14000US06037101300</td>\n",
       "      <td>Census Tract 1013, Los Angeles, CA</td>\n",
       "      <td>81776.0</td>\n",
       "      <td>11857.0</td>\n",
       "      <td>MULTIPOLYGON (((-118.27822 34.25068, -118.2782...</td>\n",
       "    </tr>\n",
       "  </tbody>\n",
       "</table>\n",
       "</div>"
      ],
      "text/plain": [
       "                geoid                                   name  \\\n",
       "0  14000US06037101110  Census Tract 1011.10, Los Angeles, CA   \n",
       "1  14000US06037101122  Census Tract 1011.22, Los Angeles, CA   \n",
       "2  14000US06037101210  Census Tract 1012.10, Los Angeles, CA   \n",
       "3  14000US06037101220  Census Tract 1012.20, Los Angeles, CA   \n",
       "4  14000US06037101300     Census Tract 1013, Los Angeles, CA   \n",
       "\n",
       "   Median Household Income  Margin of Error  \\\n",
       "0                  63534.0          16806.0   \n",
       "1                  90389.0           9796.0   \n",
       "2                  44083.0           9483.0   \n",
       "3                  43713.0           4639.0   \n",
       "4                  81776.0          11857.0   \n",
       "\n",
       "                                            geometry  \n",
       "0  MULTIPOLYGON (((-118.30229 34.25870, -118.3009...  \n",
       "1  MULTIPOLYGON (((-118.30334 34.27371, -118.3033...  \n",
       "2  MULTIPOLYGON (((-118.29945 34.25598, -118.2979...  \n",
       "3  MULTIPOLYGON (((-118.28593 34.25227, -118.2859...  \n",
       "4  MULTIPOLYGON (((-118.27822 34.25068, -118.2782...  "
      ]
     },
     "execution_count": 8,
     "metadata": {},
     "output_type": "execute_result"
    }
   ],
   "source": [
    "# check the first five rows again\n",
    "hhinc.head()"
   ]
  },
  {
   "cell_type": "markdown",
   "id": "a89de315-9e37-4422-9db5-2113898ec516",
   "metadata": {},
   "source": [
    "## Explore and visualize the data\n",
    "In the section above, I learned that there are about 1,000 census tracts in the City of LA. This data file is relatively simple, showing only one major variable: median household income. \n",
    "\n",
    "In this next section, I hope to explore the data visually through charts and maps. First, I will learn some basic descriptive statistics of the data, such as the mean, median, and range. Then I hope to construct some of the first maps to describe the data."
   ]
  },
  {
   "cell_type": "code",
   "execution_count": 9,
   "id": "0f0273d1-6219-4f4f-b2fe-95f9f9da9999",
   "metadata": {},
   "outputs": [
    {
     "data": {
      "text/plain": [
       "count       993.000000\n",
       "mean      68197.410876\n",
       "std       36624.331957\n",
       "min        9191.000000\n",
       "25%       42766.000000\n",
       "50%       58576.000000\n",
       "75%       85262.000000\n",
       "max      250001.000000\n",
       "Name: Median Household Income, dtype: float64"
      ]
     },
     "execution_count": 9,
     "metadata": {},
     "output_type": "execute_result"
    }
   ],
   "source": [
    "# get some basic statistics on median household income\n",
    "hhinc['Median Household Income'].describe()"
   ]
  },
  {
   "cell_type": "markdown",
   "id": "bc109a14-abd9-452e-a466-b055a942ec53",
   "metadata": {},
   "source": [
    "### A histogram of median household income"
   ]
  },
  {
   "cell_type": "code",
   "execution_count": 10,
   "id": "47a6bfc9-e7a8-4417-b674-85179b35458e",
   "metadata": {},
   "outputs": [
    {
     "data": {
      "text/plain": [
       "<AxesSubplot:ylabel='Frequency'>"
      ]
     },
     "execution_count": 10,
     "metadata": {},
     "output_type": "execute_result"
    },
    {
     "data": {
      "image/png": "[encoded data removed]",
      "text/plain": [
       "<Figure size 1080x576 with 1 Axes>"
      ]
     },
     "metadata": {
      "needs_background": "light"
     },
     "output_type": "display_data"
    }
   ],
   "source": [
    "# create a histogram of median household incomes\n",
    "hhinc['Median Household Income'].plot.hist(figsize=(15,8),bins=50)"
   ]
  },
  {
   "cell_type": "markdown",
   "id": "276111af-f201-451f-85ec-423542912d40",
   "metadata": {},
   "source": [
    "### Filtering and plotting the 10 census tracts with the highest median income"
   ]
  },
  {
   "cell_type": "code",
   "execution_count": 11,
   "id": "60e3a721-42fd-4a8f-a4ec-8fc852835e51",
   "metadata": {},
   "outputs": [
    {
     "data": {
      "text/html": [
       "<div>\n",
       "<style scoped>\n",
       "    .dataframe tbody tr th:only-of-type {\n",
       "        vertical-align: middle;\n",
       "    }\n",
       "\n",
       "    .dataframe tbody tr th {\n",
       "        vertical-align: top;\n",
       "    }\n",
       "\n",
       "    .dataframe thead th {\n",
       "        text-align: right;\n",
       "    }\n",
       "</style>\n",
       "<table border=\"1\" class=\"dataframe\">\n",
       "  <thead>\n",
       "    <tr style=\"text-align: right;\">\n",
       "      <th></th>\n",
       "      <th>geoid</th>\n",
       "      <th>Median Household Income</th>\n",
       "    </tr>\n",
       "  </thead>\n",
       "  <tbody>\n",
       "    <tr>\n",
       "      <th>831</th>\n",
       "      <td>14000US06037262303</td>\n",
       "      <td>250001.0</td>\n",
       "    </tr>\n",
       "    <tr>\n",
       "      <th>832</th>\n",
       "      <td>14000US06037262400</td>\n",
       "      <td>250001.0</td>\n",
       "    </tr>\n",
       "    <tr>\n",
       "      <th>340</th>\n",
       "      <td>14000US06037141700</td>\n",
       "      <td>250001.0</td>\n",
       "    </tr>\n",
       "    <tr>\n",
       "      <th>994</th>\n",
       "      <td>14000US06037980019</td>\n",
       "      <td>231250.0</td>\n",
       "    </tr>\n",
       "    <tr>\n",
       "      <th>833</th>\n",
       "      <td>14000US06037262501</td>\n",
       "      <td>224962.0</td>\n",
       "    </tr>\n",
       "    <tr>\n",
       "      <th>839</th>\n",
       "      <td>14000US06037264000</td>\n",
       "      <td>220417.0</td>\n",
       "    </tr>\n",
       "    <tr>\n",
       "      <th>338</th>\n",
       "      <td>14000US06037141500</td>\n",
       "      <td>219698.0</td>\n",
       "    </tr>\n",
       "    <tr>\n",
       "      <th>827</th>\n",
       "      <td>14000US06037262100</td>\n",
       "      <td>217462.0</td>\n",
       "    </tr>\n",
       "    <tr>\n",
       "      <th>838</th>\n",
       "      <td>14000US06037262802</td>\n",
       "      <td>217292.0</td>\n",
       "    </tr>\n",
       "    <tr>\n",
       "      <th>829</th>\n",
       "      <td>14000US06037262301</td>\n",
       "      <td>215750.0</td>\n",
       "    </tr>\n",
       "  </tbody>\n",
       "</table>\n",
       "</div>"
      ],
      "text/plain": [
       "                  geoid  Median Household Income\n",
       "831  14000US06037262303                 250001.0\n",
       "832  14000US06037262400                 250001.0\n",
       "340  14000US06037141700                 250001.0\n",
       "994  14000US06037980019                 231250.0\n",
       "833  14000US06037262501                 224962.0\n",
       "839  14000US06037264000                 220417.0\n",
       "338  14000US06037141500                 219698.0\n",
       "827  14000US06037262100                 217462.0\n",
       "838  14000US06037262802                 217292.0\n",
       "829  14000US06037262301                 215750.0"
      ]
     },
     "execution_count": 11,
     "metadata": {},
     "output_type": "execute_result"
    }
   ],
   "source": [
    "# sort to find the census tracts with the highest median incomes\n",
    "hhinc_sorted = hhinc.sort_values(by='Median Household Income',ascending = False)\n",
    "hhinc_sorted[['geoid','Median Household Income']].head(10)"
   ]
  },
  {
   "cell_type": "code",
   "execution_count": null,
   "id": "6c458974-7f46-4ea7-b103-1243bf14f76c",
   "metadata": {},
   "outputs": [],
   "source": [
    "# create a graphic to show these census tracts\n",
    "hhinc_sorted.head(10).plot(figsize=(8,8),\n",
    "                           color=\"green\",\n",
    "                           edgecolor='black',\n",
    "                           linewidth=0.5)"
   ]
  },
  {
   "cell_type": "markdown",
   "id": "7249a0b0-3d47-4a31-9b7c-1c8c731e1d78",
   "metadata": {},
   "source": [
    "Having some basic understanding of Los Angeles, I can tell these tracts are in West LA around Topanga, Pacific Palisades, Westwood, and Bel-Air."
   ]
  },
  {
   "cell_type": "markdown",
   "id": "05a77e24-093b-40f7-9dee-6799fbc86368",
   "metadata": {},
   "source": [
    "### Make a map that has a basemap\n",
    "Adding basemaps would help orient viewers to Los Angeles data. Below, I am mapping by quartiles to see the census tracts that are in the below the 25th percentile and above the 75th percentile. We can see from the maps below that tracts in the San Fernando Valley and South LA have some of the lowest household incomes. In contrast, some of the tracts with the highest household incomes in the city are located around Westwood, Marina Del Rey, and Eagle Rock."
   ]
  },
  {
   "cell_type": "code",
   "execution_count": null,
   "id": "7666a76e-b0b8-49eb-acc6-5fa42bc68c9c",
   "metadata": {},
   "outputs": [],
   "source": [
    "# include a basemap - but first, reproject the geodataframe to Web Mercator (epsg: 3857)\n",
    "hhinc_web_mercator = hhinc.to_crs(epsg=3857)"
   ]
  },
  {
   "cell_type": "code",
   "execution_count": null,
   "id": "e3318f60-db1f-4ddd-93bd-38eacca19c9c",
   "metadata": {},
   "outputs": [],
   "source": [
    "# use subplots to create multiple layered maps\n",
    "fig, ax = plt.subplots(figsize=(15,15))\n",
    "\n",
    "# add the layer with ax=ax in the argument \n",
    "# pulled the 42766 figure from my statistics code above - it's the 25th percentile cut off\n",
    "hhinc_web_mercator[hhinc_web_mercator['Median Household Income'] < 42766.000000].plot(\n",
    "                                                               ax=ax, \n",
    "                                                               color=\"cyan\",\n",
    "                                                               alpha=0.4,\n",
    "                                                               edgecolor='black', \n",
    "                                                               linewidth=0.5,\n",
    ")\n",
    "\n",
    "# turn the axis off\n",
    "ax.axis('off')\n",
    "\n",
    "# set a title\n",
    "ax.set_title('Census Tracts with Median Household Incomes Below the 25th Percentile',fontsize=18,pad=18)\n",
    "\n",
    "# add a basemap\n",
    "ctx.add_basemap(ax,source=ctx.providers.CartoDB.Voyager)\n"
   ]
  },
  {
   "cell_type": "code",
   "execution_count": null,
   "id": "baf95883-431e-48e5-9ffa-67b4d9b78678",
   "metadata": {},
   "outputs": [],
   "source": [
    "# use subplots to create multiple layered maps\n",
    "fig, ax = plt.subplots(figsize=(15,15))\n",
    "\n",
    "# add the layer with ax=ax in the argument \n",
    "# pulled the 85262 figure from my statistics code above - it's the 75th percentile cut off\n",
    "hhinc_web_mercator[hhinc_web_mercator['Median Household Income'] > 85262.000000].plot(\n",
    "                                                               ax=ax, \n",
    "                                                               color=\"magenta\",\n",
    "                                                               alpha=0.2,\n",
    "                                                               edgecolor='black', \n",
    "                                                               linewidth=0.5,\n",
    ")\n",
    "\n",
    "# turn the axis off\n",
    "ax.axis('off')\n",
    "\n",
    "# set a title\n",
    "ax.set_title('Census Tracts with Median Household Incomes Above the 75th Percentile',fontsize=18,pad=18)\n",
    "\n",
    "# add a basemap\n",
    "ctx.add_basemap(ax,source=ctx.providers.Stamen.TonerLite)\n"
   ]
  }
 ],
 "metadata": {
  "kernelspec": {
   "display_name": "Python 3 (ipykernel)",
   "language": "python",
   "name": "python3"
  },
  "language_info": {
   "codemirror_mode": {
    "name": "ipython",
    "version": 3
   },
   "file_extension": ".py",
   "mimetype": "text/x-python",
   "name": "python",
   "nbconvert_exporter": "python",
   "pygments_lexer": "ipython3",
   "version": "3.9.6"
  }
 },
 "nbformat": 4,
 "nbformat_minor": 5
}
